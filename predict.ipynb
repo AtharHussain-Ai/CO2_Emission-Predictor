{
 "cells": [
  {
   "cell_type": "code",
   "execution_count": 7,
   "id": "4081f70e",
   "metadata": {},
   "outputs": [
    {
     "name": "stdout",
     "output_type": "stream",
     "text": [
      "\n",
      " Loading trained CO₂ prediction model...\n",
      " Model loaded successfully!\n",
      "\n",
      " Reading data from: archive/co2_em.csv\n",
      "\n",
      " Sample input data for prediction:\n",
      "+-------+---------------+----------------+-----------+--------------+-----------+----------------------------------+---------------------------------+----------------------------------+-----------------------------+\n",
      "| Make  | Vehicle Class | Engine Size(L) | Cylinders | Transmission | Fuel Type | Fuel Consumption City (L/100 km) | Fuel Consumption Hwy (L/100 km) | Fuel Consumption Comb (L/100 km) | Fuel Consumption Comb (mpg) |\n",
      "+-------+---------------+----------------+-----------+--------------+-----------+----------------------------------+---------------------------------+----------------------------------+-----------------------------+\n",
      "| ACURA |    COMPACT    |      2.0       |     4     |     AS5      |     Z     |               9.9                |               6.7               |               8.5                |             33              |\n",
      "| ACURA |    COMPACT    |      2.4       |     4     |      M6      |     Z     |               11.2               |               7.7               |               9.6                |             29              |\n",
      "| ACURA |    COMPACT    |      1.5       |     4     |     AV7      |     Z     |               6.0                |               5.8               |               5.9                |             48              |\n",
      "| ACURA |  SUV - SMALL  |      3.5       |     6     |     AS6      |     Z     |               12.7               |               9.1               |               11.1               |             25              |\n",
      "| ACURA |  SUV - SMALL  |      3.5       |     6     |     AS6      |     Z     |               12.1               |               8.7               |               10.6               |             27              |\n",
      "+-------+---------------+----------------+-----------+--------------+-----------+----------------------------------+---------------------------------+----------------------------------+-----------------------------+\n",
      "\n",
      " Generating CO₂ emission predictions...\n",
      "\n",
      " Prediction Results:\n",
      "╒════════╤═════════════════╤══════════════════╤═════════════╤════════════════╤═════════════╤════════════════════════════════════╤═══════════════════════════════════╤════════════════════════════════════╤═══════════════════════════════╤══════════════════════════════════╕\n",
      "│ Make   │ Vehicle Class   │   Engine Size(L) │   Cylinders │ Transmission   │ Fuel Type   │   Fuel Consumption City (L/100 km) │   Fuel Consumption Hwy (L/100 km) │   Fuel Consumption Comb (L/100 km) │   Fuel Consumption Comb (mpg) │   Predicted CO₂ Emissions (g/km) │\n",
      "╞════════╪═════════════════╪══════════════════╪═════════════╪════════════════╪═════════════╪════════════════════════════════════╪═══════════════════════════════════╪════════════════════════════════════╪═══════════════════════════════╪══════════════════════════════════╡\n",
      "│ ACURA  │ COMPACT         │             2.00 │           4 │ AS5            │ Z           │                               9.90 │                              6.70 │                               8.50 │                            33 │                           194.95 │\n",
      "├────────┼─────────────────┼──────────────────┼─────────────┼────────────────┼─────────────┼────────────────────────────────────┼───────────────────────────────────┼────────────────────────────────────┼───────────────────────────────┼──────────────────────────────────┤\n",
      "│ ACURA  │ COMPACT         │             2.40 │           4 │ M6             │ Z           │                              11.20 │                              7.70 │                               9.60 │                            29 │                           222.08 │\n",
      "├────────┼─────────────────┼──────────────────┼─────────────┼────────────────┼─────────────┼────────────────────────────────────┼───────────────────────────────────┼────────────────────────────────────┼───────────────────────────────┼──────────────────────────────────┤\n",
      "│ ACURA  │ COMPACT         │             1.50 │           4 │ AV7            │ Z           │                               6.00 │                              5.80 │                               5.90 │                            48 │                           132.08 │\n",
      "├────────┼─────────────────┼──────────────────┼─────────────┼────────────────┼─────────────┼────────────────────────────────────┼───────────────────────────────────┼────────────────────────────────────┼───────────────────────────────┼──────────────────────────────────┤\n",
      "│ ACURA  │ SUV - SMALL     │             3.50 │           6 │ AS6            │ Z           │                              12.70 │                              9.10 │                              11.10 │                            25 │                           256.91 │\n",
      "├────────┼─────────────────┼──────────────────┼─────────────┼────────────────┼─────────────┼────────────────────────────────────┼───────────────────────────────────┼────────────────────────────────────┼───────────────────────────────┼──────────────────────────────────┤\n",
      "│ ACURA  │ SUV - SMALL     │             3.50 │           6 │ AS6            │ Z           │                              12.10 │                              8.70 │                              10.60 │                            27 │                           245.10 │\n",
      "╘════════╧═════════════════╧══════════════════╧═════════════╧════════════════╧═════════════╧════════════════════════════════════╧═══════════════════════════════════╧════════════════════════════════════╧═══════════════════════════════╧══════════════════════════════════╛\n",
      "\n",
      " Predictions saved to: predictions.csv\n"
     ]
    }
   ],
   "source": [
    "import pandas as pd\n",
    "import joblib\n",
    "from tabulate import tabulate\n",
    "\n",
    "MODEL_PATH = \"best_co2_model.joblib\"\n",
    "DATA_PATH = \"archive/co2_em.csv\"\n",
    "\n",
    "print(\"\\n Loading trained CO₂ prediction model...\")\n",
    "model = joblib.load(MODEL_PATH)\n",
    "print(\" Model loaded successfully!\")\n",
    "\n",
    "print(f\"\\n Reading data from: {DATA_PATH}\")\n",
    "df_new = pd.read_csv(DATA_PATH)\n",
    "\n",
    "X_new = df_new.drop(columns=[\"CO2 Emissions(g/km)\", \"Model\"]).head()\n",
    "\n",
    "print(\"\\n Sample input data for prediction:\")\n",
    "print(tabulate(X_new, headers=\"keys\", tablefmt=\"pretty\", showindex=False))\n",
    "\n",
    "print(\"\\n Generating CO₂ emission predictions...\")\n",
    "predictions = model.predict(X_new)\n",
    "\n",
    "df_results = X_new.copy()\n",
    "df_results[\"Predicted CO₂ Emissions (g/km)\"] = predictions\n",
    "\n",
    "print(\"\\n Prediction Results:\")\n",
    "print(tabulate(df_results, headers=\"keys\", tablefmt=\"fancy_grid\", showindex=False, floatfmt=\".2f\"))\n",
    "\n",
    "OUTPUT_PATH = \"predictions.csv\"\n",
    "df_results.to_csv(OUTPUT_PATH, index=False)\n",
    "print(f\"\\n Predictions saved to: {OUTPUT_PATH}\")\n"
   ]
  },
  {
   "cell_type": "code",
   "execution_count": null,
   "id": "a6941550",
   "metadata": {},
   "outputs": [],
   "source": []
  }
 ],
 "metadata": {
  "kernelspec": {
   "display_name": "base",
   "language": "python",
   "name": "python3"
  },
  "language_info": {
   "codemirror_mode": {
    "name": "ipython",
    "version": 3
   },
   "file_extension": ".py",
   "mimetype": "text/x-python",
   "name": "python",
   "nbconvert_exporter": "python",
   "pygments_lexer": "ipython3",
   "version": "3.13.5"
  }
 },
 "nbformat": 4,
 "nbformat_minor": 5
}
